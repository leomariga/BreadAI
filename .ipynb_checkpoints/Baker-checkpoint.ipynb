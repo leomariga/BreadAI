{
 "cells": [
  {
   "cell_type": "code",
   "execution_count": 95,
   "metadata": {},
   "outputs": [
    {
     "name": "stdout",
     "output_type": "stream",
     "text": [
      "['Camis voa Calyptra \\n Henrique voa Calyptra \\n Leonardo voa Calyptra \\n Camis derruba Calyptra \\n Henrique derruba Calyptra \\n Leonardo derruba Calyptra \\n Camis voa Zipline \\n Henrique voa Zipline \\n Leonardo voa Zipline \\n Camis derruba Zipline \\n Henrique derruba Zipline \\n Leonardo derruba Zipline']\n"
     ]
    }
   ],
   "source": [
    "from numpy import array\n",
    "import numpy as np\n",
    "from keras.preprocessing.text import Tokenizer\n",
    "from keras.preprocessing.sequence import pad_sequences\n",
    "from keras.layers import Embedding, LSTM, Dense, Dropout\n",
    "from keras.callbacks import EarlyStopping\n",
    "from keras.models import Sequential\n",
    "import keras.utils as ku \n",
    "\n",
    "file_content = open(r\"\\Database\\test.txt\").read()\n",
    "file_content = file_content.replace(\".\", \" . \")\n",
    "lines = [file_content.replace(\"\\n\", \" \\n \")]\n",
    "print(lines)"
   ]
  },
  {
   "cell_type": "markdown",
   "metadata": {},
   "source": [
    "Agora utilizamos `Tokenizer()` para gerar uma lista de palavras, onde cada palavra é um id. Lembrando que precisamos fazer uma outra lista com todas as combinações das formações das frases, já que queremos prever a próxima palavra com base nas N palavras anteriores"
   ]
  },
  {
   "cell_type": "code",
   "execution_count": 141,
   "metadata": {},
   "outputs": [
    {
     "data": {
      "text/plain": [
       "[[6, 2],\n",
       " [6, 2, 3],\n",
       " [6, 2, 3, 1],\n",
       " [6, 2, 3, 1, 7],\n",
       " [6, 2, 3, 1, 7, 2],\n",
       " [6, 2, 3, 1, 7, 2, 3],\n",
       " [6, 2, 3, 1, 7, 2, 3, 1],\n",
       " [6, 2, 3, 1, 7, 2, 3, 1, 8],\n",
       " [6, 2, 3, 1, 7, 2, 3, 1, 8, 2],\n",
       " [2, 3, 1, 7, 2, 3, 1, 8, 2, 3]]"
      ]
     },
     "execution_count": 141,
     "metadata": {},
     "output_type": "execute_result"
    }
   ],
   "source": [
    "tokenizer = Tokenizer(filters='!\"#$%&()*+,-/:;<=>?@[\\\\]^_`{|}~\\t')\n",
    "\n",
    "\n",
    "def get_sequence_of_tokens(corpus):\n",
    "    ## tokenization\n",
    "    janela = 10\n",
    "    tokenizer.fit_on_texts(corpus)\n",
    "    total_words = len(tokenizer.word_index) + 1\n",
    "    \n",
    "    ## convert data to sequence of tokens \n",
    "    input_sequences = []\n",
    "    for line in corpus:\n",
    "        token_list = tokenizer.texts_to_sequences([line])[0]\n",
    "        for i in range(1, len(token_list)):\n",
    "            if(i<janela):\n",
    "                n_gram_sequence = token_list[:i+1]\n",
    "                input_sequences.append(n_gram_sequence)\n",
    "            else:\n",
    "                n_gram_sequence = token_list[i+1-janela:i+1]\n",
    "                input_sequences.append(n_gram_sequence)\n",
    "    return input_sequences, total_words\n",
    "\n",
    "inp_sequences, total_words = get_sequence_of_tokens(lines)\n",
    "inp_sequences[:10]"
   ]
  },
  {
   "cell_type": "code",
   "execution_count": 142,
   "metadata": {},
   "outputs": [
    {
     "name": "stdout",
     "output_type": "stream",
     "text": [
      "word_index :  {'\\n': 1, 'voa': 2, 'calyptra': 3, 'derruba': 4, 'zipline': 5, 'camis': 6, 'henrique': 7, 'leonardo': 8}\n",
      "8\n"
     ]
    }
   ],
   "source": [
    "print(\"word_index : \",tokenizer.word_index)\n",
    "print(len(tokenizer.word_index))"
   ]
  },
  {
   "cell_type": "markdown",
   "metadata": {},
   "source": [
    "### Ta vendo que ali em cima os vetores tem dimensões todas diferentes? precisamos padronizar isso daí fazendo com que todos tenham as mesmas dimensões"
   ]
  },
  {
   "cell_type": "code",
   "execution_count": 143,
   "metadata": {},
   "outputs": [
    {
     "data": {
      "text/plain": [
       "array([[0, 0, 0, 0, 0, 0, 0, 0, 6, 2],\n",
       "       [0, 0, 0, 0, 0, 0, 0, 6, 2, 3],\n",
       "       [0, 0, 0, 0, 0, 0, 6, 2, 3, 1],\n",
       "       [0, 0, 0, 0, 0, 6, 2, 3, 1, 7],\n",
       "       [0, 0, 0, 0, 6, 2, 3, 1, 7, 2],\n",
       "       [0, 0, 0, 6, 2, 3, 1, 7, 2, 3],\n",
       "       [0, 0, 6, 2, 3, 1, 7, 2, 3, 1],\n",
       "       [0, 6, 2, 3, 1, 7, 2, 3, 1, 8],\n",
       "       [6, 2, 3, 1, 7, 2, 3, 1, 8, 2],\n",
       "       [2, 3, 1, 7, 2, 3, 1, 8, 2, 3]])"
      ]
     },
     "execution_count": 143,
     "metadata": {},
     "output_type": "execute_result"
    }
   ],
   "source": [
    "max_sequence_len = max([len(x) for x in inp_sequences])\n",
    "input_sequences = np.array(pad_sequences(inp_sequences, maxlen=max_sequence_len, padding='pre'))\n",
    "input_sequences[:10]"
   ]
  },
  {
   "cell_type": "markdown",
   "metadata": {},
   "source": [
    "### O último número é sempre função dos números anteriores"
   ]
  },
  {
   "cell_type": "code",
   "execution_count": 144,
   "metadata": {},
   "outputs": [
    {
     "name": "stdout",
     "output_type": "stream",
     "text": [
      "9\n"
     ]
    }
   ],
   "source": [
    "qtd_de_palavrinhas = len(tokenizer.word_index)+1\n",
    "print(qtd_de_palavrinhas)"
   ]
  },
  {
   "cell_type": "code",
   "execution_count": 145,
   "metadata": {},
   "outputs": [
    {
     "name": "stdout",
     "output_type": "stream",
     "text": [
      "[[0 0 0 0 0 0 0 0 6]\n",
      " [0 0 0 0 0 0 0 6 2]\n",
      " [0 0 0 0 0 0 6 2 3]\n",
      " [0 0 0 0 0 6 2 3 1]\n",
      " [0 0 0 0 6 2 3 1 7]\n",
      " [0 0 0 6 2 3 1 7 2]\n",
      " [0 0 6 2 3 1 7 2 3]\n",
      " [0 6 2 3 1 7 2 3 1]\n",
      " [6 2 3 1 7 2 3 1 8]\n",
      " [2 3 1 7 2 3 1 8 2]]\n",
      "[2 3 1 7 2 3 1 8 2 3]\n",
      "[[0. 0. 1. 0. 0. 0. 0. 0. 0.]\n",
      " [0. 0. 0. 1. 0. 0. 0. 0. 0.]\n",
      " [0. 1. 0. 0. 0. 0. 0. 0. 0.]\n",
      " [0. 0. 0. 0. 0. 0. 0. 1. 0.]\n",
      " [0. 0. 1. 0. 0. 0. 0. 0. 0.]\n",
      " [0. 0. 0. 1. 0. 0. 0. 0. 0.]\n",
      " [0. 1. 0. 0. 0. 0. 0. 0. 0.]\n",
      " [0. 0. 0. 0. 0. 0. 0. 0. 1.]\n",
      " [0. 0. 1. 0. 0. 0. 0. 0. 0.]\n",
      " [0. 0. 0. 1. 0. 0. 0. 0. 0.]]\n"
     ]
    }
   ],
   "source": [
    "X, y_denso = input_sequences[:,:-1],input_sequences[:,-1]\n",
    "y = ku.to_categorical(y_denso, num_classes=qtd_de_palavrinhas)\n",
    "print(X[:10]) # Entrada\n",
    "print(y_denso[:10]) # Saída\n",
    "print(y[:10]) # Saída"
   ]
  },
  {
   "cell_type": "code",
   "execution_count": 146,
   "metadata": {},
   "outputs": [
    {
     "name": "stdout",
     "output_type": "stream",
     "text": [
      "9\n"
     ]
    }
   ],
   "source": [
    "tamanho_entrada = X.shape[1]\n",
    "print(tamanho_entrada)"
   ]
  },
  {
   "cell_type": "markdown",
   "metadata": {},
   "source": [
    "O layer `Embbedded` é usado para transformar cada palavra (que agora é um número) em uma representação vetorial de acordo com sua frequência. A ideia é que palavras que sejam usadas\n",
    "\n",
    "> words that have similar context will have similar meanings\n",
    "\n",
    "Esse embedding é bonitão pq já arruma a matriz no formato 3D que o LSTM precisa como input, então não preciso me procupar com isso."
   ]
  },
  {
   "cell_type": "markdown",
   "metadata": {},
   "source": [
    "After we’ve done the file reading, we will create the actual input for the Network. We’re gonna use Keras to create and train our Network, so we must convert the data into this form: **(number_of_sequences, length_of_sequence, number_of_features)**."
   ]
  },
  {
   "cell_type": "code",
   "execution_count": 147,
   "metadata": {},
   "outputs": [
    {
     "name": "stdout",
     "output_type": "stream",
     "text": [
      "_________________________________________________________________\n",
      "Layer (type)                 Output Shape              Param #   \n",
      "=================================================================\n",
      "embedding_10 (Embedding)     (None, 9, 10)             90        \n",
      "_________________________________________________________________\n",
      "lstm_10 (LSTM)               (None, 100)               44400     \n",
      "_________________________________________________________________\n",
      "dense_10 (Dense)             (None, 9)                 909       \n",
      "=================================================================\n",
      "Total params: 45,399\n",
      "Trainable params: 45,399\n",
      "Non-trainable params: 0\n",
      "_________________________________________________________________\n"
     ]
    }
   ],
   "source": [
    "model = Sequential()\n",
    "model.add(Embedding(qtd_de_palavrinhas, 10, input_length=tamanho_entrada))\n",
    "model.add(LSTM(100))\n",
    "model.add(Dense(qtd_de_palavrinhas, activation='softmax'))\n",
    "model.compile(loss='categorical_crossentropy', optimizer='adam')\n",
    "model.summary()"
   ]
  },
  {
   "cell_type": "code",
   "execution_count": 148,
   "metadata": {},
   "outputs": [
    {
     "name": "stdout",
     "output_type": "stream",
     "text": [
      "Epoch 1/100\n",
      "Epoch 2/100\n",
      "Epoch 3/100\n",
      "Epoch 4/100\n",
      "Epoch 5/100\n",
      "Epoch 6/100\n",
      "Epoch 7/100\n",
      "Epoch 8/100\n",
      "Epoch 9/100\n",
      "Epoch 10/100\n",
      "Epoch 11/100\n",
      "Epoch 12/100\n",
      "Epoch 13/100\n",
      "Epoch 14/100\n",
      "Epoch 15/100\n",
      "Epoch 16/100\n",
      "Epoch 17/100\n",
      "Epoch 18/100\n",
      "Epoch 19/100\n",
      "Epoch 20/100\n",
      "Epoch 21/100\n",
      "Epoch 22/100\n",
      "Epoch 23/100\n",
      "Epoch 24/100\n",
      "Epoch 25/100\n",
      "Epoch 26/100\n",
      "Epoch 27/100\n",
      "Epoch 28/100\n",
      "Epoch 29/100\n",
      "Epoch 30/100\n",
      "Epoch 31/100\n",
      "Epoch 32/100\n",
      "Epoch 33/100\n",
      "Epoch 34/100\n",
      "Epoch 35/100\n",
      "Epoch 36/100\n",
      "Epoch 37/100\n",
      "Epoch 38/100\n",
      "Epoch 39/100\n",
      "Epoch 40/100\n",
      "Epoch 41/100\n",
      "Epoch 42/100\n",
      "Epoch 43/100\n",
      "Epoch 44/100\n",
      "Epoch 45/100\n",
      "Epoch 46/100\n",
      "Epoch 47/100\n",
      "Epoch 48/100\n",
      "Epoch 49/100\n",
      "Epoch 50/100\n",
      "Epoch 51/100\n",
      "Epoch 52/100\n",
      "Epoch 53/100\n",
      "Epoch 54/100\n",
      "Epoch 55/100\n",
      "Epoch 56/100\n",
      "Epoch 57/100\n",
      "Epoch 58/100\n",
      "Epoch 59/100\n",
      "Epoch 60/100\n",
      "Epoch 61/100\n",
      "Epoch 62/100\n",
      "Epoch 63/100\n",
      "Epoch 64/100\n",
      "Epoch 65/100\n",
      "Epoch 66/100\n",
      "Epoch 67/100\n",
      "Epoch 68/100\n",
      "Epoch 69/100\n",
      "Epoch 70/100\n",
      "Epoch 71/100\n",
      "Epoch 72/100\n",
      "Epoch 73/100\n",
      "Epoch 74/100\n",
      "Epoch 75/100\n",
      "Epoch 76/100\n",
      "Epoch 77/100\n",
      "Epoch 78/100\n",
      "Epoch 79/100\n",
      "Epoch 80/100\n",
      "Epoch 81/100\n",
      "Epoch 82/100\n",
      "Epoch 83/100\n",
      "Epoch 84/100\n",
      "Epoch 85/100\n",
      "Epoch 86/100\n",
      "Epoch 87/100\n",
      "Epoch 88/100\n",
      "Epoch 89/100\n",
      "Epoch 90/100\n",
      "Epoch 91/100\n",
      "Epoch 92/100\n",
      "Epoch 93/100\n",
      "Epoch 94/100\n",
      "Epoch 95/100\n",
      "Epoch 96/100\n",
      "Epoch 97/100\n",
      "Epoch 98/100\n",
      "Epoch 99/100\n",
      "Epoch 100/100\n"
     ]
    },
    {
     "data": {
      "text/plain": [
       "<keras.callbacks.History at 0x22b13cc9278>"
      ]
     },
     "execution_count": 148,
     "metadata": {},
     "output_type": "execute_result"
    }
   ],
   "source": [
    "model.fit(X, y, epochs=100, verbose=5)"
   ]
  },
  {
   "cell_type": "code",
   "execution_count": 149,
   "metadata": {},
   "outputs": [],
   "source": [
    "def generate_text(seed_text, next_words, model, max_sequence_len):\n",
    "    for _ in range(next_words):\n",
    "        token_list = tokenizer.texts_to_sequences([seed_text])[0]\n",
    "        token_list = pad_sequences([token_list], maxlen=max_sequence_len-1, padding='pre')\n",
    "        predicted = model.predict_classes(token_list, verbose=0)\n",
    "        \n",
    "        output_word = \"\"\n",
    "        for word,index in tokenizer.word_index.items():\n",
    "            if index == predicted:\n",
    "                output_word = word\n",
    "                break\n",
    "        seed_text += \" \"+output_word\n",
    "    return seed_text.title()"
   ]
  },
  {
   "cell_type": "code",
   "execution_count": 150,
   "metadata": {},
   "outputs": [
    {
     "name": "stdout",
     "output_type": "stream",
     "text": [
      "Camis Voa Calyptra \n",
      " Henrique Voa Calyptra \n",
      " Leonardo Voa Calyptra \n",
      " Henrique Derruba Calyptra \n",
      " Henrique Derruba Calyptra \n",
      " Henrique Derruba Calyptra \n",
      " Henrique Derruba Calyptra \n",
      " Henrique Derruba Calyptra \n",
      " Henrique Derruba Calyptra \n",
      " Henrique Derruba Calyptra \n",
      " Henrique Derruba Calyptra \n",
      " Henrique Derruba Calyptra \n",
      " Henrique Derruba Calyptra \n",
      " Henrique Derruba Calyptra \n",
      " Henrique Derruba Calyptra \n",
      " Henrique Derruba Calyptra \n",
      " Henrique Derruba Calyptra \n",
      " Henrique Derruba Calyptra \n",
      " Henrique Derruba Calyptra \n",
      " Henrique Derruba Calyptra \n",
      " Henrique Derruba Calyptra \n",
      " Henrique Derruba Calyptra \n",
      " Henrique Derruba Calyptra \n",
      " Henrique Derruba Calyptra \n",
      " Henrique Derruba Calyptra \n",
      " Henrique\n"
     ]
    }
   ],
   "source": [
    "print(generate_text(\"camis\",100,model,max_sequence_len))"
   ]
  },
  {
   "cell_type": "code",
   "execution_count": null,
   "metadata": {},
   "outputs": [],
   "source": []
  }
 ],
 "metadata": {
  "kernelspec": {
   "display_name": "Python 3",
   "language": "python",
   "name": "python3"
  },
  "language_info": {
   "codemirror_mode": {
    "name": "ipython",
    "version": 3
   },
   "file_extension": ".py",
   "mimetype": "text/x-python",
   "name": "python",
   "nbconvert_exporter": "python",
   "pygments_lexer": "ipython3",
   "version": "3.7.3"
  }
 },
 "nbformat": 4,
 "nbformat_minor": 2
}
